{
 "cells": [
  {
   "cell_type": "code",
   "execution_count": 22,
   "metadata": {},
   "outputs": [
    {
     "name": "stdout",
     "output_type": "stream",
     "text": [
      "Total no. of rows: 7999\n",
      "Field names are:Date, State, TotalSamples, Negative, Positive\n",
      "\n",
      "First 5 rows are:\n",
      "\n",
      "2020-04-17\n",
      "Andaman and Nicobar Islands\n",
      "    1403.0\n",
      "      1210\n",
      "      12.0\n",
      "2020-04-24\n",
      "Andaman and Nicobar Islands\n",
      "    2679.0\n",
      "          \n",
      "      27.0\n",
      "2020-04-27\n",
      "Andaman and Nicobar Islands\n",
      "    2848.0\n",
      "          \n",
      "      33.0\n",
      "2020-05-01\n",
      "Andaman and Nicobar Islands\n",
      "    3754.0\n",
      "          \n",
      "      33.0\n",
      "2020-05-16\n",
      "Andaman and Nicobar Islands\n",
      "    6677.0\n",
      "          \n",
      "      33.0\n"
     ]
    }
   ],
   "source": [
    "import csv\n",
    "import pandas as pd\n",
    "\n",
    "filename = \"StatewiseTestingDetails.csv\"\n",
    "\n",
    "fields = []\n",
    "rows = []\n",
    "\n",
    "with open(filename, 'r') as csvfile:\n",
    "    \n",
    "    csvreader = csv.reader(csvfile)\n",
    "    \n",
    "    fields = next(csvreader)\n",
    "    \n",
    "    # extracting each data row one by one \n",
    "    for row in csvreader:\n",
    "        rows.append(row)\n",
    "    \n",
    "    # get total number of rows \n",
    "    print(\"Total no. of rows: %d\" %(csvreader.line_num)) \n",
    "  \n",
    "# printing the field names \n",
    "print('Field names are:' + ', '.join(field for field in fields)) \n",
    "  \n",
    "#  printing first 5 rows \n",
    "print('\\nFirst 5 rows are:\\n') \n",
    "for row in rows[:5]: \n",
    "    # parsing each column of a row \n",
    "    for col in row: \n",
    "        print(\"%10s\"%col), \n",
    "#     print('\\n') \n"
   ]
  },
  {
   "cell_type": "code",
   "execution_count": 36,
   "metadata": {},
   "outputs": [
    {
     "name": "stdout",
     "output_type": "stream",
     "text": [
      "Int64Index([0, 1, 2, 3, 4], dtype='int64')\n",
      "            0                            1             2         3         4\n",
      "0        Date                        State  TotalSamples  Negative  Positive\n",
      "1  2020-04-17  Andaman and Nicobar Islands        1403.0      1210      12.0\n",
      "2  2020-04-24  Andaman and Nicobar Islands        2679.0       NaN      27.0\n",
      "3  2020-04-27  Andaman and Nicobar Islands        2848.0       NaN      33.0\n",
      "4  2020-05-01  Andaman and Nicobar Islands        3754.0       NaN      33.0\n",
      "5  2020-05-16  Andaman and Nicobar Islands        6677.0       NaN      33.0\n",
      "6  2020-05-19  Andaman and Nicobar Islands        6965.0       NaN      33.0\n",
      "7  2020-05-20  Andaman and Nicobar Islands        7082.0       NaN      33.0\n",
      "8  2020-05-21  Andaman and Nicobar Islands        7167.0       NaN      33.0\n",
      "9  2020-05-22  Andaman and Nicobar Islands        7263.0       NaN      33.0\n"
     ]
    }
   ],
   "source": [
    "import pandas as pd\n",
    "\n",
    "df = pd.read_csv(\n",
    "    'StatewiseTestingDetails.csv',\n",
    "    header = None,\n",
    "    sep = ',',\n",
    ")\n",
    "\n",
    "print(df.columns)\n",
    "print(df.head(10))\n",
    "\n"
   ]
  },
  {
   "cell_type": "code",
   "execution_count": 40,
   "metadata": {},
   "outputs": [
    {
     "name": "stdout",
     "output_type": "stream",
     "text": [
      "   col1\n",
      "9     1\n",
      "8     3\n",
      "7     5\n",
      "4     7\n",
      "0     9\n",
      "1    11\n",
      "2    13\n",
      "3    15\n",
      "4    17\n",
      "5    19\n"
     ]
    }
   ],
   "source": [
    "usecols = range(1,17)\n",
    "\n",
    "import numpy as np\n",
    "\n",
    "x=pd.DataFrame({\"col1\": np.arange(1,20,2)}, index=[9,8,7,4,0,1,2,3,4,5])\n",
    "\n",
    "print(x)"
   ]
  },
  {
   "cell_type": "code",
   "execution_count": 81,
   "metadata": {},
   "outputs": [
    {
     "name": "stdout",
     "output_type": "stream",
     "text": [
      "............\n"
     ]
    }
   ],
   "source": [
    "import pandas as pd\n",
    "import numpy as np \n",
    "import csv\n",
    "\n",
    "reader = csv.reader(open('StatewiseTestingDetails.csv'))\n",
    "result = {}\n",
    "for row in reader:\n",
    "    key = row[0]\n",
    "    if key in result:\n",
    "        # implement your duplicate row handling here\n",
    "        pass\n",
    "    result[key] = row[1:]\n",
    "# print(result)\n",
    "# df = pd.DataFrame(result, index = ['a','b','c','d','e','f'])\n",
    "\n",
    "# print(df)\n",
    "print(\"............\")\n",
    "\n",
    "# df_filtered = df.query(\"Positive>10\")\n",
    "# print(df_filtered)"
   ]
  },
  {
   "cell_type": "code",
   "execution_count": 84,
   "metadata": {},
   "outputs": [
    {
     "name": "stdout",
     "output_type": "stream",
     "text": [
      "Inter html\n"
     ]
    }
   ],
   "source": []
  },
  {
   "cell_type": "code",
   "execution_count": null,
   "metadata": {},
   "outputs": [],
   "source": []
  }
 ],
 "metadata": {
  "kernelspec": {
   "display_name": "Python 3",
   "language": "python",
   "name": "python3"
  },
  "language_info": {
   "codemirror_mode": {
    "name": "ipython",
    "version": 3
   },
   "file_extension": ".py",
   "mimetype": "text/x-python",
   "name": "python",
   "nbconvert_exporter": "python",
   "pygments_lexer": "ipython3",
   "version": "3.7.7"
  }
 },
 "nbformat": 4,
 "nbformat_minor": 4
}
